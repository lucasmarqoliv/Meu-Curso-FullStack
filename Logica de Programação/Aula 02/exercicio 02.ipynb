{
 "cells": [
  {
   "cell_type": "code",
   "execution_count": 1,
   "metadata": {},
   "outputs": [
    {
     "name": "stdout",
     "output_type": "stream",
     "text": [
      "Lucas\n"
     ]
    }
   ],
   "source": [
    "# questão 01\n",
    "nome = input('digite seu nome: ')\n",
    "print(nome)\n"
   ]
  },
  {
   "cell_type": "code",
   "execution_count": 1,
   "metadata": {},
   "outputs": [
    {
     "name": "stdout",
     "output_type": "stream",
     "text": [
      "seu nome é Lucas e sua idade é 28 anos\n"
     ]
    }
   ],
   "source": [
    "# questão 02\n",
    "nome = input('digite seu nome: ')\n",
    "idade = int(input('digite sua idade: '))\n",
    "print(f'seu nome é {nome} e sua idade é {idade} anos')\n"
   ]
  },
  {
   "cell_type": "code",
   "execution_count": 5,
   "metadata": {},
   "outputs": [
    {
     "name": "stdout",
     "output_type": "stream",
     "text": [
      "a soma de 5.0 + 5.0 é igual a: 10.0\n"
     ]
    }
   ],
   "source": [
    "# questão 03 soma de dois numeros:\n",
    "n1 = float(input('digite o primeiro numero: '))\n",
    "n2 = float(input('digite o segundo numero: '))\n",
    "resultado = n1+n2\n",
    "print (f'a soma de {n1} + {n2} é igual a: {resultado}')"
   ]
  },
  {
   "cell_type": "code",
   "execution_count": 1,
   "metadata": {},
   "outputs": [
    {
     "name": "stdout",
     "output_type": "stream",
     "text": [
      "sua idade atual é: 28 anos\n"
     ]
    }
   ],
   "source": [
    "# questão 04 calculo idade:\n",
    "ano_nascimento = int(input('digite seu ano de nascimento: '))\n",
    "ano_atual = int(input('digite o ano atual: '))\n",
    "print(f'sua idade atual é: {ano_atual - ano_nascimento} anos')"
   ]
  },
  {
   "cell_type": "code",
   "execution_count": 12,
   "metadata": {},
   "outputs": [
    {
     "name": "stdout",
     "output_type": "stream",
     "text": [
      "a temperatura 30.0º convertida em fahrenheit é: 86.0º .\n"
     ]
    }
   ],
   "source": [
    "# questão 05 conversor de temperatura:\n",
    "c = float(input('digite a temperatura em celsius: '))\n",
    "f = c * 9/5 +32\n",
    "print(f'a temperatura {c}º convertida em fahrenheit é: {f}º .')"
   ]
  }
 ],
 "metadata": {
  "kernelspec": {
   "display_name": "Python 3",
   "language": "python",
   "name": "python3"
  },
  "language_info": {
   "codemirror_mode": {
    "name": "ipython",
    "version": 3
   },
   "file_extension": ".py",
   "mimetype": "text/x-python",
   "name": "python",
   "nbconvert_exporter": "python",
   "pygments_lexer": "ipython3",
   "version": "3.12.3"
  }
 },
 "nbformat": 4,
 "nbformat_minor": 2
}
