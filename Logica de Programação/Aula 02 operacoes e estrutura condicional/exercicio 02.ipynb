{
 "cells": [
  {
   "cell_type": "code",
   "execution_count": 1,
   "metadata": {},
   "outputs": [
    {
     "name": "stdout",
     "output_type": "stream",
     "text": [
      "Lucas\n"
     ]
    }
   ],
   "source": [
    "# questão 01\n",
    "nome = input('digite seu nome: ')\n",
    "print(nome)\n"
   ]
  },
  {
   "cell_type": "code",
   "execution_count": 1,
   "metadata": {},
   "outputs": [
    {
     "name": "stdout",
     "output_type": "stream",
     "text": [
      "seu nome é Lucas e sua idade é 28 anos\n"
     ]
    }
   ],
   "source": [
    "# questão 02\n",
    "nome = input('digite seu nome: ')\n",
    "idade = int(input('digite sua idade: '))\n",
    "print(f'seu nome é {nome} e sua idade é {idade} anos')\n"
   ]
  },
  {
   "cell_type": "code",
   "execution_count": 5,
   "metadata": {},
   "outputs": [
    {
     "name": "stdout",
     "output_type": "stream",
     "text": [
      "a soma de 5.0 + 5.0 é igual a: 10.0\n"
     ]
    }
   ],
   "source": [
    "# questão 03 soma de dois numeros:\n",
    "n1 = float(input('digite o primeiro numero: '))\n",
    "n2 = float(input('digite o segundo numero: '))\n",
    "resultado = n1+n2\n",
    "print (f'a soma de {n1} + {n2} é igual a: {resultado}')"
   ]
  },
  {
   "cell_type": "code",
   "execution_count": 1,
   "metadata": {},
   "outputs": [
    {
     "name": "stdout",
     "output_type": "stream",
     "text": [
      "sua idade atual é: 28 anos\n"
     ]
    }
   ],
   "source": [
    "# questão 04 calculo idade:\n",
    "ano_nascimento = int(input('digite seu ano de nascimento: '))\n",
    "ano_atual = int(input('digite o ano atual: '))\n",
    "print(f'sua idade atual é: {ano_atual - ano_nascimento} anos')"
   ]
  },
  {
   "cell_type": "code",
   "execution_count": 12,
   "metadata": {},
   "outputs": [
    {
     "name": "stdout",
     "output_type": "stream",
     "text": [
      "a temperatura 30.0º convertida em fahrenheit é: 86.0º .\n"
     ]
    }
   ],
   "source": [
    "# questão 05 conversor de temperatura:\n",
    "c = float(input('digite a temperatura em celsius: '))\n",
    "f = c * 9/5 +32\n",
    "print(f'a temperatura {c}º convertida em fahrenheit é: {f}º .')"
   ]
  },
  {
   "cell_type": "code",
   "execution_count": 4,
   "metadata": {},
   "outputs": [
    {
     "name": "stdout",
     "output_type": "stream",
     "text": [
      "Você está em idade ativa.\n"
     ]
    }
   ],
   "source": [
    "# verificação de idade:\n",
    "idade = int(input('qual sua idade? '))\n",
    "if idade > 18 and idade < 65:\n",
    "    print('Você está em idade ativa.')\n",
    "else:\n",
    "    print('Você não está em idade ativa.')"
   ]
  },
  {
   "cell_type": "code",
   "execution_count": 7,
   "metadata": {},
   "outputs": [
    {
     "name": "stdout",
     "output_type": "stream",
     "text": [
      "o numero é par e maior que 10.\n"
     ]
    }
   ],
   "source": [
    "# verificação de paridade:\n",
    "num = int(input('digite um numero: '))\n",
    "if num % 2 == 0 and num > 10:\n",
    "    print ('o numero é par e maior que 10.')\n",
    "else:\n",
    "    print ('o numero não atende as condições.')"
   ]
  },
  {
   "cell_type": "code",
   "execution_count": 10,
   "metadata": {},
   "outputs": [
    {
     "name": "stdout",
     "output_type": "stream",
     "text": [
      "Reprovado.\n"
     ]
    }
   ],
   "source": [
    "# verificação de nota:\n",
    "nota = float(input('digite a nota da prova: '))\n",
    "if nota >= 7 and nota <= 10:\n",
    "    print ('Aprovado.')\n",
    "elif nota < 7 and nota >= 5:\n",
    "    print ('Recuperação.')\n",
    "elif nota < 5:\n",
    "    print ('Reprovado.')"
   ]
  },
  {
   "cell_type": "code",
   "execution_count": 14,
   "metadata": {},
   "outputs": [
    {
     "name": "stdout",
     "output_type": "stream",
     "text": [
      "O numero esta no intervalo.\n"
     ]
    }
   ],
   "source": [
    "# verificação de intervalo:\n",
    "num = int(input('digite um numero: '))\n",
    "if num < 101:\n",
    "    print('O numero esta no intervalo.')\n",
    "else:\n",
    "    print ('o numero esta fora do intervalo')"
   ]
  },
  {
   "cell_type": "code",
   "execution_count": 17,
   "metadata": {},
   "outputs": [
    {
     "name": "stdout",
     "output_type": "stream",
     "text": [
      "Nome de usuario ou senha incorretos.\n"
     ]
    }
   ],
   "source": [
    "# login simples\n",
    "usuario = (input('insira o nome de usuario: '))\n",
    "senha = int(input('digite a senha: '))\n",
    "if usuario == 'admin' and senha == 1234:\n",
    "    print ('Login bem-sucedido')\n",
    "else:\n",
    "    print ('Nome de usuario ou senha incorretos.')"
   ]
  },
  {
   "cell_type": "code",
   "execution_count": 22,
   "metadata": {},
   "outputs": [
    {
     "name": "stdout",
     "output_type": "stream",
     "text": [
      "Temperatura normal.\n"
     ]
    }
   ],
   "source": [
    "# avaliação de temperatura:\n",
    "temp_atual = float(input('digite a temperatura atual: '))\n",
    "if temp_atual > 30 or temp_atual < 10:\n",
    "    print ('Atenção: Temperatura extrema.')\n",
    "else:\n",
    "    print ('Temperatura normal.')"
   ]
  },
  {
   "cell_type": "code",
   "execution_count": 26,
   "metadata": {},
   "outputs": [
    {
     "name": "stdout",
     "output_type": "stream",
     "text": [
      "Voce não pode votar.\n"
     ]
    }
   ],
   "source": [
    "# verificação de voto:\n",
    "idade = int(input('insira sua idade: '))\n",
    "titulo = (input('voce tem titulo? '))\n",
    "if idade >= 18 or titulo == 'sim':\n",
    "    print('Voce pode votar.')\n",
    "else:\n",
    "    print('Voce não pode votar.')"
   ]
  },
  {
   "cell_type": "code",
   "execution_count": 29,
   "metadata": {},
   "outputs": [
    {
     "name": "stdout",
     "output_type": "stream",
     "text": [
      "o numero esta em um dos intervalos.\n"
     ]
    }
   ],
   "source": [
    "# verificação de intervalos multiplos: \n",
    "num = int(input('digite um numero:'))\n",
    "if num < 31:\n",
    "    print('o numero esta em um dos intervalos.')\n",
    "else:\n",
    "    print('o numero esta fora dos intervalos.')"
   ]
  },
  {
   "cell_type": "code",
   "execution_count": 31,
   "metadata": {},
   "outputs": [
    {
     "name": "stdout",
     "output_type": "stream",
     "text": [
      "Acesso negado.\n"
     ]
    }
   ],
   "source": [
    "# acesso a site:\n",
    "idade = int(input('digite sua idade:'))\n",
    "permissao = (input('voce tem permissão dos pais? '))\n",
    "if idade >= 18 or permissao == 'sim':\n",
    "    print('Acesso permitido.')\n",
    "else:\n",
    "    print ('Acesso negado.')"
   ]
  },
  {
   "cell_type": "code",
   "execution_count": null,
   "metadata": {},
   "outputs": [],
   "source": [
    "# validação de entrada:\n",
    "valor = int(input('insira um valor: '))\n",
    "if valor > 0:\n",
    "    print('Valor valido.')\n",
    "else:\n",
    "    print('Valor invalido.')"
   ]
  }
 ],
 "metadata": {
  "kernelspec": {
   "display_name": "Python 3",
   "language": "python",
   "name": "python3"
  },
  "language_info": {
   "codemirror_mode": {
    "name": "ipython",
    "version": 3
   },
   "file_extension": ".py",
   "mimetype": "text/x-python",
   "name": "python",
   "nbconvert_exporter": "python",
   "pygments_lexer": "ipython3",
   "version": "3.12.3"
  }
 },
 "nbformat": 4,
 "nbformat_minor": 2
}
