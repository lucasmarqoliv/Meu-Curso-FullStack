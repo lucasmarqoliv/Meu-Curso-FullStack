{
 "cells": [
  {
   "cell_type": "code",
   "execution_count": 2,
   "metadata": {},
   "outputs": [
    {
     "name": "stdout",
     "output_type": "stream",
     "text": [
      "Incorreto!\n"
     ]
    }
   ],
   "source": [
    "# advinhe a fruta\n",
    "fruta = 'maça'\n",
    "pergunta = str(input('qual a fruta?'))\n",
    "if pergunta == 'maça':\n",
    "    print('Correto!')\n",
    "else:\n",
    "    print('Incorreto!')\n"
   ]
  },
  {
   "cell_type": "code",
   "execution_count": 58,
   "metadata": {},
   "outputs": [
    {
     "name": "stdout",
     "output_type": "stream",
     "text": [
      "Dentro do intervalo\n"
     ]
    }
   ],
   "source": [
    "# intervalo de 1 a 10\n",
    "numero = int(input('insira um numero: '))\n",
    "if numero >= 1 and numero <= 10:\n",
    "    print('Dentro do intervalo')\n",
    "else:\n",
    "    print('fora do intervalo')"
   ]
  },
  {
   "cell_type": "code",
   "execution_count": 16,
   "metadata": {},
   "outputs": [
    {
     "name": "stdout",
     "output_type": "stream",
     "text": [
      "6 é par\n"
     ]
    }
   ],
   "source": [
    "# verificar PAR ou IMPAR\n",
    "numero = int(input('digite um numero: '))\n",
    "if numero % 2 == 0:\n",
    "    print(f'{numero} é par')\n",
    "else:\n",
    "    print(f'{numero} é impar')"
   ]
  },
  {
   "cell_type": "code",
   "execution_count": 65,
   "metadata": {},
   "outputs": [
    {
     "name": "stdout",
     "output_type": "stream",
     "text": [
      "Criança\n"
     ]
    }
   ],
   "source": [
    "# verificação de idade\n",
    "idade = int(input('digite sua idade: '))\n",
    "if idade >= 0 and idade <= 12:\n",
    "    print('Criança')\n",
    "elif idade >= 13 and idade <= 17:\n",
    "    print('Adolescente')\n",
    "elif idade >= 18 and idade <= 64:\n",
    "    print('Adulto')\n",
    "else:\n",
    "    print('Idoso')"
   ]
  },
  {
   "cell_type": "code",
   "execution_count": 27,
   "metadata": {},
   "outputs": [
    {
     "name": "stdout",
     "output_type": "stream",
     "text": [
      "5 / 5 é igual a 1.0\n"
     ]
    }
   ],
   "source": [
    "# calculadora\n",
    "num1 = int(input('digite o primeiro numero: '))\n",
    "num2 = int(input('digite o segundo numero: '))\n",
    "operacao = str(input('digite a operação matematica: '))\n",
    "if operacao == '+':\n",
    "    print(f'{num1} {operacao} {num2} é igual a {num1 + num2}')\n",
    "elif operacao == '-':\n",
    "    print(f'{num1} {operacao} {num2} é igual a {num1 - num2}')\n",
    "elif operacao == '*':\n",
    "    print(f'{num1} {operacao} {num2} é igual a {num1 * num2}')\n",
    "elif operacao == '/':\n",
    "    print(f'{num1} {operacao} {num2} é igual a {num1 / num2}')\n",
    "else:\n",
    "    print('algo deu errado')"
   ]
  },
  {
   "cell_type": "code",
   "execution_count": 46,
   "metadata": {},
   "outputs": [
    {
     "name": "stdout",
     "output_type": "stream",
     "text": [
      "aprovado\n"
     ]
    }
   ],
   "source": [
    "# calculo de media\n",
    "nota1 = float(input('digite a primeira nota: '))\n",
    "nota2 = float(input('digite a segunda nota: '))\n",
    "nota3 = float(input('digite a terceira nota: '))\n",
    "media = nota1 + nota2 + nota3\n",
    "media = media/3\n",
    "if media >= 7:\n",
    "    print('aprovado')\n",
    "elif media >= 5 and media < 7:\n",
    "    print('recuperação')\n",
    "elif media < 5:\n",
    "    print('reprovado')\n",
    "else: \n",
    "    print('algo deu errado.')\n"
   ]
  }
 ],
 "metadata": {
  "kernelspec": {
   "display_name": "Python 3",
   "language": "python",
   "name": "python3"
  },
  "language_info": {
   "codemirror_mode": {
    "name": "ipython",
    "version": 3
   },
   "file_extension": ".py",
   "mimetype": "text/x-python",
   "name": "python",
   "nbconvert_exporter": "python",
   "pygments_lexer": "ipython3",
   "version": "3.12.3"
  }
 },
 "nbformat": 4,
 "nbformat_minor": 2
}
