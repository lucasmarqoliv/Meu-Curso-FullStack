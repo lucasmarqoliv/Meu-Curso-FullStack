{
 "cells": [
  {
   "cell_type": "code",
   "execution_count": 1,
   "metadata": {},
   "outputs": [
    {
     "name": "stdout",
     "output_type": "stream",
     "text": [
      "numeros positivos digitados:  5.0\n",
      "numeros positivos digitados:  5.0, 6.0\n",
      "numeros positivos digitados:  5.0, 6.0, 9.0\n",
      "-5.0 é um número inválido.\n"
     ]
    }
   ],
   "source": [
    "# codigo para receber apenas numeros positivos\n",
    "numeros_digitados = []\n",
    "while True:\n",
    "    numero = float(input(\"Digite um número: \"))\n",
    "    if numero < 0:\n",
    "        print(f'{numero} é um número inválido.')\n",
    "        break\n",
    "    else:\n",
    "        numeros_digitados.append(numero)\n",
    "        print(f'numeros positivos digitados: ', ', '.join(map(str,numeros_digitados)))"
   ]
  }
 ],
 "metadata": {
  "kernelspec": {
   "display_name": "Python 3",
   "language": "python",
   "name": "python3"
  },
  "language_info": {
   "codemirror_mode": {
    "name": "ipython",
    "version": 3
   },
   "file_extension": ".py",
   "mimetype": "text/x-python",
   "name": "python",
   "nbconvert_exporter": "python",
   "pygments_lexer": "ipython3",
   "version": "3.12.3"
  }
 },
 "nbformat": 4,
 "nbformat_minor": 2
}
