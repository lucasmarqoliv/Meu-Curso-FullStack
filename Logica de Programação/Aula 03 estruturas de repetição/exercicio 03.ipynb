{
 "cells": [
  {
   "cell_type": "code",
   "execution_count": 2,
   "metadata": {},
   "outputs": [
    {
     "name": "stdout",
     "output_type": "stream",
     "text": [
      "numeros positivos digitados:  5.0\n",
      "numeros positivos digitados:  5.0, 6.0\n",
      "numeros positivos digitados:  5.0, 6.0, 7.0\n",
      "-5.0 é um número inválido.\n"
     ]
    }
   ],
   "source": [
    "# codigo para receber apenas numeros positivos\n",
    "numeros_digitados = []\n",
    "while True:\n",
    "    numero = float(input(\"Digite um número: \"))\n",
    "    if numero < 0:\n",
    "        print(f'{numero} é um número inválido.')\n",
    "        break\n",
    "    else:\n",
    "        numeros_digitados.append(numero)\n",
    "        print(f'numeros positivos digitados: ',', '.join(map(str,numeros_digitados)))"
   ]
  },
  {
   "cell_type": "code",
   "execution_count": 4,
   "metadata": {},
   "outputs": [
    {
     "name": "stdout",
     "output_type": "stream",
     "text": [
      "2 é primo\n"
     ]
    }
   ],
   "source": [
    "# verificar se numero e primo\n",
    "numero = int(input('digite um numero: '))\n",
    "contador = 1\n",
    "divisoes = 0\n",
    "\n",
    "while contador < numero:\n",
    "    if numero % contador == 0:\n",
    "        divisoes = divisoes + 1\n",
    "    contador += 1\n",
    "\n",
    "if divisoes > 2:\n",
    "    print(f' {numero} não é primo')\n",
    "else:\n",
    "    print(f'{numero} é primo')\n",
    "\n",
    "    "
   ]
  },
  {
   "cell_type": "code",
   "execution_count": 36,
   "metadata": {},
   "outputs": [
    {
     "name": "stdout",
     "output_type": "stream",
     "text": [
      "1\n",
      "2\n",
      "3\n",
      "4\n",
      "5\n"
     ]
    }
   ],
   "source": [
    "# imprmir de 1 ate 5\n",
    "for x in range(1,6):\n",
    "    print(x)"
   ]
  },
  {
   "cell_type": "code",
   "execution_count": 34,
   "metadata": {},
   "outputs": [
    {
     "name": "stdout",
     "output_type": "stream",
     "text": [
      "0\n",
      "2\n",
      "4\n",
      "6\n",
      "8\n",
      "10\n"
     ]
    }
   ],
   "source": [
    "# imprimir de 0 ate 10 saltando de 2 em 2\n",
    "for y in range(0,11,2):\n",
    "    print(y)"
   ]
  },
  {
   "cell_type": "code",
   "execution_count": 38,
   "metadata": {},
   "outputs": [
    {
     "name": "stdout",
     "output_type": "stream",
     "text": [
      "maca\n",
      "laranja\n",
      "uva\n"
     ]
    }
   ],
   "source": [
    "# imprimir frutas\n",
    "for frutas in ['maca','laranja','uva']:\n",
    "    print(frutas)\n"
   ]
  },
  {
   "cell_type": "code",
   "execution_count": 87,
   "metadata": {},
   "outputs": [
    {
     "name": "stdout",
     "output_type": "stream",
     "text": [
      "10\n",
      "12\n",
      "14\n",
      "16\n",
      "18\n",
      "20\n"
     ]
    }
   ],
   "source": [
    "# imprimir pares de 10 ate 20\n",
    "for num in range (10,21,2):\n",
    "    print(num)"
   ]
  },
  {
   "cell_type": "code",
   "execution_count": 53,
   "metadata": {},
   "outputs": [
    {
     "name": "stdout",
     "output_type": "stream",
     "text": [
      "1\n",
      "2\n",
      "3\n",
      "4\n",
      "5\n",
      "6\n",
      "8\n",
      "9\n",
      "10\n"
     ]
    }
   ],
   "source": [
    "# imprimir de 1 ate 10 exceto 7\n",
    "for num in range (1,11):\n",
    "    if num != 7:\n",
    "        print(num)\n",
    "\n",
    "  "
   ]
  },
  {
   "cell_type": "code",
   "execution_count": 92,
   "metadata": {},
   "outputs": [
    {
     "name": "stdout",
     "output_type": "stream",
     "text": [
      "a\n",
      "b\n",
      "a\n",
      "c\n"
     ]
    }
   ],
   "source": [
    "# imprimir abacaxi ate letra c\n",
    "for fruta in 'abacaxi':\n",
    "    print(fruta)\n",
    "    if fruta == 'c':\n",
    "        break"
   ]
  },
  {
   "cell_type": "code",
   "execution_count": 106,
   "metadata": {},
   "outputs": [
    {
     "name": "stdout",
     "output_type": "stream",
     "text": [
      "10\n",
      "5\n",
      "3\n"
     ]
    }
   ],
   "source": [
    "# imprimir ate negativo\n",
    "for num in [10,5,3,-7,2,-8]:\n",
    "    if num <0:\n",
    "        break\n",
    "    print(num)\n",
    "\n"
   ]
  },
  {
   "cell_type": "code",
   "execution_count": 75,
   "metadata": {},
   "outputs": [
    {
     "name": "stdout",
     "output_type": "stream",
     "text": [
      "java\n",
      "c++\n",
      "python\n"
     ]
    }
   ],
   "source": [
    "# imprimir nome aate python\n",
    "for nome in ['java', 'c++', 'python', 'ruby']:\n",
    "    print(nome)\n",
    "    if nome == 'python':\n",
    "        break"
   ]
  },
  {
   "cell_type": "code",
   "execution_count": 78,
   "metadata": {},
   "outputs": [
    {
     "name": "stdout",
     "output_type": "stream",
     "text": [
      "15\n",
      "18\n",
      "25\n"
     ]
    }
   ],
   "source": [
    "# imprimir ate maior que 20\n",
    "for num in [15,18,25,30,10,5]:\n",
    "    print(num)\n",
    "    if num > 20:\n",
    "        break"
   ]
  }
 ],
 "metadata": {
  "kernelspec": {
   "display_name": "Python 3",
   "language": "python",
   "name": "python3"
  },
  "language_info": {
   "codemirror_mode": {
    "name": "ipython",
    "version": 3
   },
   "file_extension": ".py",
   "mimetype": "text/x-python",
   "name": "python",
   "nbconvert_exporter": "python",
   "pygments_lexer": "ipython3",
   "version": "3.12.3"
  }
 },
 "nbformat": 4,
 "nbformat_minor": 2
}
